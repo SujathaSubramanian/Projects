{
 "cells": [
  {
   "cell_type": "markdown",
   "metadata": {},
   "source": [
    "Two basic types of ** Recommender systems ** that are used are ** Content Based ** and ** Collaborative Filtering(CF) **. Content Based systems use the knowledge of the items/products to come up with the recommendations. It does not rely on the user data,and uses only the data related to items/products,thereby all the users in the system are mostly given the same set of recommendations. \n",
    "Whereas ** Collaborative Filtering(CF) ** produces recommendations based on the knowledge of user interaction with the product/items.Collaborative filtering is done using two ways, one is ** Memory Based ** and other is ** Model based **. \n",
    "\n",
    "In this writeup, we will compare output from memory-based CF,model-based CF and third approach which uses Machine Learning algorithm ** Stochastic gradient descent ** to train the model for prediction.RMSE and movie recommendations for all the approaches will be compared."
   ]
  },
  {
   "cell_type": "code",
   "execution_count": 224,
   "metadata": {
    "collapsed": false
   },
   "outputs": [],
   "source": [
    "\"\"\"\n",
    "Below are some of the helper functions used for analyzing of various recommenders\n",
    "\"\"\"\n",
    "##Root Mean Squared Error. We will conside only non-zero ratings\n",
    "def rmse(prediction, ground_truth):\n",
    "    prediction = prediction[ground_truth.nonzero()].flatten() \n",
    "    ground_truth = ground_truth[ground_truth.nonzero()].flatten()\n",
    "    \n",
    "    return sqrt(mean_squared_error(prediction, ground_truth))\n",
    "\n",
    "##Predit function to find user-user similarity and item-item similarity. User bias is removed by adjusting the \n",
    "##mean user bias before predicting ratings\n",
    "def predict(ratings, similarity, type='user',epsilon=1e20):\n",
    "    if type == 'user':\n",
    "        mean_user_rating = ratings.mean(axis=1)\n",
    "        #You use np.newaxis so that mean_user_rating has same format as ratings\n",
    "        ratings_diff = (ratings - mean_user_rating[:, np.newaxis]) \n",
    "        pred = mean_user_rating[:, np.newaxis] + similarity.dot(ratings_diff) / np.array([np.abs(similarity).sum(axis=1)]).T\n",
    "    elif type == 'item':\n",
    "        pred = ratings.dot(similarity) / np.array([np.abs(similarity).sum(axis=1)])  \n",
    "    return pred\n",
    "\n",
    "##\n",
    "##Find the top-k movie names based on the ordered ratings \n",
    "##\n",
    "def top_k_movies_byuser(prediction, mapper, user_idx, k=6):\n",
    "    return [mapper[x] for x in np.argsort(prediction[user_idx,np.where(train_data_matrix[user_idx, :] == 0)[0]])[:-k-1:-1]]\n",
    "\n",
    "\n",
    "##Predict the ratings using dot product of the latent features for users and items \n",
    "def predictionSGD(P,Q):\n",
    "    return np.dot(P.T,Q)\n",
    "\n",
    "\n"
   ]
  },
  {
   "cell_type": "markdown",
   "metadata": {},
   "source": [
    "## Memory based Collorative Filtering\n",
    "Memory based collaborative filtering has again two types , one is ** item based CF **(i.e Users who liked this item also liked …) and second is ** user based CF **(i.e Users who are similar to you also liked …)In the first approach,items are compared to find similar items and items are recommened accordingly. Likewise users are compared to find similar users and item interactions between similar users are used for recommendations.\n",
    "Distance metric that is considered in this case is \"Cosine Similarity\"\n"
   ]
  },
  {
   "cell_type": "code",
   "execution_count": 225,
   "metadata": {
    "collapsed": false
   },
   "outputs": [
    {
     "name": "stdout",
     "output_type": "stream",
     "text": [
      "User-based CF MSE on train data: 2.8989928094\n",
      "User-based CF MSE on train data: 2.96538594191\n",
      "\n",
      "Movies recommended to user 16 are:\n",
      "['Exotica (1994)', 'Terminator 2: Judgment Day (1991)', 'Delicatessen (1991)', 'Jungle2Jungle (1997)', 'Maya Lin: A Strong Clear Vision (1994)', 'Gattaca (1997)']\n",
      "\n",
      "Item-based CF MSE on test data: 3.0955962464\n",
      "Item-based CF MSE on test data: 3.17177742133\n",
      "\n",
      "Movies recommended to user 16 are:\n",
      "['Pather Panchali (1955)', 'Slingshot, The (1993)', 'Invitation, The (Zaproszenie) (1986)', 'Collectionneuse, La (1967)', 'Chairman of the Board (1998)', 'Venice/Venice (1992)']\n",
      "\n"
     ]
    }
   ],
   "source": [
    "import numpy as np\n",
    "import pandas as pd\n",
    "from sklearn.metrics import mean_squared_error\n",
    "from math import sqrt\n",
    "from sklearn.metrics.pairwise import pairwise_distances\n",
    "\n",
    "trainRMSE = []\n",
    "testRMSE = []\n",
    "\n",
    "header = ['user_id', 'item_id', 'rating', 'timestamp']\n",
    "df = pd.read_csv('ml-100k/u.data', sep='\\t', names=header)\n",
    "n_users = df.user_id.unique().shape[0]\n",
    "n_items = df.item_id.unique().shape[0]\n",
    "#print 'Number of users = ' + str(n_users) + ' | Number of movies = ' + str(n_items)  \n",
    "\n",
    "from sklearn import cross_validation as cv\n",
    "train_data, test_data = cv.train_test_split(df, test_size=0.25)\n",
    "\n",
    "#Create two user-item matrices, one for training and another for testing\n",
    "train_data_matrix = np.zeros((n_users, n_items))\n",
    "for line in train_data.itertuples():\n",
    "    train_data_matrix[line[1]-1, line[2]-1] = line[3]  \n",
    "\n",
    "test_data_matrix = np.zeros((n_users, n_items))\n",
    "for line in test_data.itertuples():\n",
    "    test_data_matrix[line[1]-1, line[2]-1] = line[3]\n",
    "    \n",
    "# Load movie data\n",
    "idx_to_movie = {}\n",
    "with open('ml-100k/u.item', 'r') as f:\n",
    "    for line in f.readlines():\n",
    "        info = line.split('|')\n",
    "        idx_to_movie[int(info[0])-1] = info[1]\n",
    "\n",
    "#Compute the cosine distance and 1-cosine distance yields cosine similarity.epsilon is used to handle the \n",
    "#divide by zero scenarios\n",
    "epsilon=1e-9\n",
    "user_similarity = (1-pairwise_distances(train_data_matrix, metric='cosine')) + epsilon\n",
    "item_similarity = (1-pairwise_distances(train_data_matrix.T, metric='cosine')) + epsilon\n",
    "\n",
    "user_idx = 16 \n",
    "\n",
    "pred = predict(train_data_matrix, user_similarity, type='user')\n",
    "\n",
    "userBasedTrainRMSE = rmse(pred, train_data_matrix)\n",
    "userBasedTestRMSE = rmse(pred, test_data_matrix)\n",
    "\n",
    "trainRMSE.append(userBasedTrainRMSE)\n",
    "testRMSE.append(userBasedTestRMSE)\n",
    "\n",
    "print 'User-based CF MSE on train data: ' + str(userBasedTrainRMSE)\n",
    "print 'User-based CF MSE on train data: ' + str(userBasedTestRMSE)+\"\\n\"\n",
    "print \"Movies recommended to user \" + str(user_idx) + \" are:\"\n",
    "nearestMovies = top_k_movies_byuser(pred, idx_to_movie, user_idx)\n",
    "print str(nearestMovies)  + \"\\n\"\n",
    "\n",
    "pred = predict(train_data_matrix, item_similarity, type='item')\n",
    "\n",
    "itemBasedTrainRMSE = rmse(pred, train_data_matrix)\n",
    "itemBasedTestRMSE = rmse(pred, test_data_matrix)\n",
    "trainRMSE.append(itemBasedTrainRMSE)\n",
    "testRMSE.append(itemBasedTestRMSE)\n",
    "\n",
    "\n",
    "print 'Item-based CF MSE on test data: ' + str(itemBasedTrainRMSE)\n",
    "print 'Item-based CF MSE on test data: ' + str(itemBasedTestRMSE)+\"\\n\"\n",
    "print \"Movies recommended to user \" + str(user_idx) + \" are:\"\n",
    "\n",
    "nearestMovies = top_k_movies_byuser(pred, idx_to_movie, user_idx)\n",
    "print str(nearestMovies)  + \"\\n\"\n",
    "\n"
   ]
  },
  {
   "cell_type": "markdown",
   "metadata": {},
   "source": [
    "In the above example, the RMSE for user based and item based models are given. We will run a similar test using the ** memory based (CF)** "
   ]
  },
  {
   "cell_type": "markdown",
   "metadata": {},
   "source": [
    "## Model  based Collaborative filtering\n",
    "Model based collaborative filtering uses matrix factorization methods to find the hidden features from the given data. Singular Value Decomposition(SVD) is one such matrix factorization methods which we will explore below.We will use the SVD as the matrix factorization method to find the features in the vector space.\n"
   ]
  },
  {
   "cell_type": "code",
   "execution_count": 226,
   "metadata": {
    "collapsed": false
   },
   "outputs": [
    {
     "name": "stdout",
     "output_type": "stream",
     "text": [
      "Model-based CF MSE on train data: 2.2769620113\n",
      "Model-based CF MSE on test data: 2.80878451722\n",
      "\n",
      "Movies recommended to user 16 are:\n",
      "['Terminator 2: Judgment Day (1991)', 'Gattaca (1997)', 'Roman Holiday (1953)', 'Seven (Se7en) (1995)', 'Richard III (1995)', 'Twister (1996)']\n",
      "\n",
      "   Actual Rating  Predicted Rating\n",
      "0            4.0          2.008119\n",
      "1            4.0          1.798437\n",
      "2            3.0          2.125665\n",
      "3            3.0          0.777328\n",
      "4            3.0          0.833930\n"
     ]
    }
   ],
   "source": [
    "import scipy.sparse as sp\n",
    "from scipy.sparse.linalg import svds\n",
    "\n",
    "#get SVD components from train matrix. Choose k.\n",
    "u, s, vt = svds(train_data_matrix, k = 30)\n",
    "s_diag_matrix=np.diag(s)\n",
    "X_pred = np.dot(np.dot(u, s_diag_matrix), vt)\n",
    "\n",
    "modelBasedTrainRMSE = rmse(X_pred, train_data_matrix)\n",
    "modelBasedTestRMSE = rmse(X_pred, test_data_matrix)\n",
    "trainRMSE.append(modelBasedTrainRMSE)\n",
    "testRMSE.append(modelBasedTestRMSE)\n",
    "\n",
    "print 'Model-based CF MSE on train data: ' + str(modelBasedTrainRMSE)\n",
    "print 'Model-based CF MSE on test data: ' + str(modelBasedTestRMSE) + \"\\n\"\n",
    "\n",
    "print \"Movies recommended to user \" + str(user_idx) + \" are:\"\n",
    "nearestMovies = top_k_movies_byuser(X_pred, idx_to_movie, user_idx)\n",
    "print str(nearestMovies) + \"\\n\"\n",
    "\n",
    "# Compare true ratings of user with predictions\n",
    "ratings = pd.DataFrame(columns = (\"Actual Rating\",\"Predicted Rating\"))\n",
    "ratings[\"Actual Rating\"] = train_data_matrix[user_idx,np.where(train_data_matrix[user_idx, :] > 0)[0]][0:5]\n",
    "ratings[\"Predicted Rating\"] = X_pred[user_idx,np.where(train_data_matrix[user_idx, :] > 0)[0]][0:5]\n",
    "print ratings\n"
   ]
  },
  {
   "cell_type": "markdown",
   "metadata": {},
   "source": [
    "RMSE in the model based CF is not any better than the memory based model. Another big issue with the matrix factorization approach is that it does not work well with missing data.MovieLens dataset that is considered in this script has no Nan/missing values and thus the SVD worked. But in real-life scenario that is hardly the case.In the next section we will be using ** Stochastic Gradient Descent ** to update the missing features while minimizing loss function.\n",
    "\n",
    "## Stochastic Gradient Descent\n",
    "\n",
    "In this algorithm we need to find two low-rank matrices, user_feature(k * m) and movie_feature (k*n)\n",
    "that makes prediction such that loss function is minimized.Update function for each step uses the formula menetioned in the given write-up.http://www.jmlr.org/proceedings/papers/v36/li14.pdf\n",
    "\n",
    "We use regularized stochastic gradient descent to avoid overfitting and number of iterations are fixed. As the iterations increase RMSE is calculated to arrive at the optimum values of user and movie low rank matrix.\n"
   ]
  },
  {
   "cell_type": "code",
   "execution_count": 228,
   "metadata": {
    "collapsed": false,
    "scrolled": true
   },
   "outputs": [
    {
     "name": "stdout",
     "output_type": "stream",
     "text": [
      "User-based CF MSE on train data: 0.714080947915\n",
      "User-based CF MSE on test data: 0.993265400798\n",
      "\n",
      "Movies recommended to user 16 are:\n",
      "['Line King: Al Hirschfeld, The (1996)', 'Paris, France (1993)', 'That Darn Cat! (1965)', 'Low Life, The (1994)', 'Nightwatch (1997)', 'Shall We Dance? (1937)']\n",
      "\n",
      "   Actual Rating  Predicted Rating\n",
      "0            4.0          3.517920\n",
      "1            4.0          3.383637\n",
      "2            3.0          3.147399\n",
      "3            3.0          3.187693\n",
      "4            3.0          2.711541\n"
     ]
    }
   ],
   "source": [
    "lmbda = 0.1 # Regularisation weight\n",
    "k = 20  # Dimensionality of the latent feature space\n",
    "m, n = train_data_matrix.shape  # Number of users and items\n",
    "iterations = 100  # Number of epochs\n",
    "gamma=0.01  # Learning rate\n",
    "\n",
    "user_feature = 3 * np.random.rand(k,m) # Latent user feature matrix\n",
    "movie_feature = 3 * np.random.rand(k,n) # Latent movie feature matrix\n",
    "train_errors = []\n",
    "test_errors = []\n",
    "\n",
    "#Only consider non-zero matrix \n",
    "users,items = train_data_matrix.nonzero()      \n",
    "for iter in xrange(iterations):\n",
    "    for u, i in zip(users,items):\n",
    "        e = train_data_matrix[u, i] - predictionSGD(user_feature[:,u],movie_feature[:,i])  # Calculate error for gradient\n",
    "        user_feature[:,u] += gamma * ( e * movie_feature[:,i] - lmbda * user_feature[:,u]) # Update latent user feature matrix\n",
    "        movie_feature[:,i] += gamma * ( e * user_feature[:,u] - lmbda * movie_feature[:,i])  # Update latent movie feature matrix\n",
    "    pred = predictionSGD(user_feature,movie_feature)\n",
    "    train_rmse = rmse(pred, train_data_matrix)\n",
    "    test_rmse = rmse(pred, test_data_matrix)\n",
    "    train_errors.append(train_rmse)\n",
    "    test_errors.append(test_rmse)\n",
    "\n",
    "# Calculate prediction matrix R_hat (low-rank approximation for R)\n",
    "pred=predictionSGD(user_feature,movie_feature)\n",
    "sgdBasedTrainRMSE = rmse(pred, train_data_matrix)\n",
    "sgdBasedTestRMSE = rmse(pred, test_data_matrix)\n",
    "trainRMSE.append(sgdBasedTrainRMSE)\n",
    "testRMSE.append(sgdBasedTestRMSE)\n",
    "\n",
    "print 'User-based CF MSE on train data: ' + str(sgdBasedTrainRMSE)\n",
    "print 'User-based CF MSE on test data: ' + str(sgdBasedTestRMSE) + \"\\n\"\n",
    "\n",
    "print \"Movies recommended to user \" + str(user_idx) + \" are:\"\n",
    "nearestMovies = top_k_movies_byuser(pred, idx_to_movie, user_idx)\n",
    "print str(nearestMovies) + \"\\n\"\n",
    "\n",
    "# Compare true ratings of user with predictions\n",
    "ratings = pd.DataFrame(columns = (\"Actual Rating\",\"Predicted Rating\"))\n",
    "ratings[\"Actual Rating\"] = train_data_matrix[user_idx,np.where(train_data_matrix[user_idx, :] > 0)[0]][0:5]\n",
    "ratings[\"Predicted Rating\"] = pred[user_idx,np.where(train_data_matrix[user_idx, :] > 0)[0]][0:5]\n",
    "print ratings"
   ]
  },
  {
   "cell_type": "markdown",
   "metadata": {},
   "source": [
    "## Model Performance\n",
    "Let us do a simple plot to compare RMSE in all the 4 models we have considered.4 models considered here are the Memory based CF(user based and item based CF),Model Based CF(Singular Value Decomposition(SVD),Stochastic Gradient Descent."
   ]
  },
  {
   "cell_type": "code",
   "execution_count": 229,
   "metadata": {
    "collapsed": false
   },
   "outputs": [
    {
     "data": {
      "image/png": "[encoded data removed]",
      "text/plain": [
       "<matplotlib.figure.Figure at 0x1ed1b668>"
      ]
     },
     "metadata": {},
     "output_type": "display_data"
    }
   ],
   "source": [
    "import numpy as np\n",
    "import matplotlib.pyplot as plt\n",
    "\n",
    "fig = plt.figure()\n",
    "ax = fig.add_subplot(111)\n",
    "\n",
    "## the data\n",
    "N = 4\n",
    "## necessary variables\n",
    "ind = np.arange(N)                # the x locations for the groups\n",
    "width = 0.35                      # the width of the bars\n",
    "\n",
    "## the bars\n",
    "rects1 = ax.bar(ind, trainRMSE, width,\n",
    "                color='black'\n",
    "                )\n",
    "\n",
    "rects2 = ax.bar(ind+width, testRMSE, width,\n",
    "                    color='red',\n",
    "                    )\n",
    "\n",
    "# axes and labels\n",
    "ax.set_xlim(-width,len(ind)+width)\n",
    "ax.set_ylim(0,4)\n",
    "ax.set_ylabel('RMSE')\n",
    "ax.set_title('RMSE by train/test for different recommenders')\n",
    "xTickMarks = ['User CF','Item CF','SVD','SGD']\n",
    "ax.set_xticks(ind+width)\n",
    "xtickNames = ax.set_xticklabels(xTickMarks)\n",
    "plt.setp(xtickNames, rotation=45, fontsize=10)\n",
    "## add a legend\n",
    "ax.legend( (rects1[0], rects2[0]), ('Train', 'Test') )\n",
    "plt.show()"
   ]
  },
  {
   "cell_type": "markdown",
   "metadata": {
    "collapsed": true
   },
   "source": [
    "# Conclusion\n",
    "All the above models adopt different techniques to predict the movie ratings based on the existing data.Model performance is guaged with least Root Mean Square Error. Stochastic Gradient Descent outperforms other collaborative filtering methods with the least Root Mean Squared Error. In the next blog we will look at other models,including the hybrid models for the recommender systems.\n",
    "\n",
    "## Reference\n",
    "\n",
    "* http://www.jmlr.org/proceedings/papers/v36/li14.pdf\n",
    "\n",
    "* http://online.cambridgecoding.com/notebooks/mhaller/implementing-your-own-recommender-systems-in-python-using-stochastic-gradient-descent-4\n",
    "\n",
    "* http://blog.ethanrosenthal.com/2015/11/02/intro-to-collaborative-filtering/\n",
    "\n"
   ]
  }
 ],
 "metadata": {
  "kernelspec": {
   "display_name": "Python 2",
   "language": "python",
   "name": "python2"
  },
  "language_info": {
   "codemirror_mode": {
    "name": "ipython",
    "version": 2
   },
   "file_extension": ".py",
   "mimetype": "text/x-python",
   "name": "python",
   "nbconvert_exporter": "python",
   "pygments_lexer": "ipython2",
   "version": "2.7.10"
  }
 },
 "nbformat": 4,
 "nbformat_minor": 1
}
