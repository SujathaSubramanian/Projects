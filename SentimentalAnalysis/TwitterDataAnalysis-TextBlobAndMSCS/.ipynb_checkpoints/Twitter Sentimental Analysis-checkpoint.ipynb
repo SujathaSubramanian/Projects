{
 "cells": [
  {
   "cell_type": "markdown",
   "metadata": {},
   "source": [
    "# Analyze Sentiments on twitter data\n",
    "\n",
    "First step is create a twitter account to access the twitter APIs. Using those keys we can authenticate to make twitter API calls.Tweepy is a python library for accessing twitter APIs"
   ]
  },
  {
   "cell_type": "code",
   "execution_count": 77,
   "metadata": {
    "collapsed": false
   },
   "outputs": [],
   "source": [
    "import tweepy\n",
    "from textblob import TextBlob\n",
    "import numpy as np\n",
    "import operator\n",
    "from string import punctuation\n",
    "import sys\n",
    "import base64\n",
    "import json\n",
    "import pandas as pd\n",
    "import re\n",
    "import http.client\n",
    "import urllib\n",
    "\n",
    "# Step 1 - Authenticate\n",
    "consumer_key = ''\n",
    "consumer_secret = ''\n",
    "access_token =  '-'\n",
    "access_token_secret = ''\n",
    "auth = tweepy.OAuthHandler(consumer_key,consumer_secret)\n",
    "auth.set_access_token(access_token,access_token_secret)\n",
    "api = tweepy.API(auth)\n"
   ]
  },
  {
   "cell_type": "code",
   "execution_count": 78,
   "metadata": {
    "collapsed": false
   },
   "outputs": [],
   "source": [
    "#Helper functions used to process the tweets using regular expressions. \n",
    "#Input: string (tweet as string)\n",
    "#Output: string (tweet are processed using regular expressions and returned)\n",
    "def processTweet(tweet):\n",
    "    # process the tweets\n",
    "    #Remove additional white spaces\n",
    "    tweet = re.sub('[\\s]+', ' ', tweet)\n",
    "    #Convert to lower case\n",
    "    tweet = tweet.lower()\n",
    "    #Convert www.* or https?://* to URL\n",
    "    tweet = re.sub('((www\\.[^\\s]+)|(https?://[^\\s]+))','URL',tweet)\n",
    "    #Convert @username to AT_USER\n",
    "    tweet = re.sub('@[^\\s]+','AT_USER',tweet)\n",
    "\n",
    "    #Replace #word with word\n",
    "    tweet = re.sub(r'#([^\\s]+)', r'\\1', tweet)\n",
    "    #trim\n",
    "    tweet = tweet.strip('\\'\"')\n",
    "    #Replace the puncuations\n",
    "    for p in list(punctuation):\n",
    "        tweet=tweet.replace(p,'')\n",
    "    return tweet\n",
    "\n",
    "#Normalize the data\n",
    "def normalize(lst):\n",
    "    minx = min(lst)\n",
    "    maxx = max(lst)\n",
    "    return list(map(lambda x: x-minx/(maxx-minx), lst))\n",
    "\n",
    "#Given a threshold we can return \"Postive\" if above threshold,\"Negative\" if below thresold and \"Neutral\" otherwise\n",
    "def get_label(analysis, threshold = 0):\n",
    "    if analysis > threshold:\n",
    "        return 'Positive'\n",
    "    elif analysis == threshold:\n",
    "        return 'Neutral'\n",
    "    else:\n",
    "        return 'Negative'\n",
    "\n",
    "    "
   ]
  },
  {
   "cell_type": "markdown",
   "metadata": {},
   "source": [
    "## Sentiment Analysis : TextBlob\n",
    "TextBlob is a Python library for processing textual data. It provides a simple API for diving into common natural language processing (NLP) tasks such as part-of-speech tagging, noun phrase extraction, sentiment analysis, classification, translation, and more.\n",
    "\n",
    "Comparing twitter sentiments between two candidates/products helps us figure out the trend of one in comparison to the other. For each of the candidates, access tweets relevant to them and analyze the average sentiment. \n",
    "Average sentiment between two candidates can be used as comparision on who is more popular.\n"
   ]
  },
  {
   "cell_type": "code",
   "execution_count": 79,
   "metadata": {
    "collapsed": false
   },
   "outputs": [
    {
     "name": "stdout",
     "output_type": "stream",
     "text": [
      "Empty DataFrame\n",
      "Columns: [Method, Candidate_Name, MeanSentiment]\n",
      "Index: []\n"
     ]
    }
   ],
   "source": [
    "candidates_names = ['stevesmith', 'iamvkohli']\n"
   ]
  },
  {
   "cell_type": "code",
   "execution_count": 80,
   "metadata": {
    "collapsed": false,
    "scrolled": false
   },
   "outputs": [
    {
     "name": "stdout",
     "output_type": "stream",
     "text": [
      "Mean Sentiment Polarity in descending order :\n",
      "iamvkohli : 0.642\n",
      "stevesmith : 0.494\n"
     ]
    }
   ],
   "source": [
    "all_polarities_tb = dict()\n",
    "number_of_tweets = 100\n",
    "\n",
    "for candidate in candidates_names:\n",
    "    this_candidate_polarities = []\n",
    "    #For each of the candidates call the tweepy api to gets the tweets.\n",
    "    this_candidate_tweets = api.search(candidate, count=number_of_tweets)\n",
    "    with open('%s_tweets.csv' % candidate, 'wb') as this_candidate_file:\n",
    "        this_candidate_file.write('tweet,sentiment_label\\n' .encode())\n",
    "        #Process te tweets and call Textblob to find the pola\n",
    "        for tweet in this_candidate_tweets:\n",
    "            tweet = processTweet(tweet.text)\n",
    "            analysis = TextBlob(tweet)\n",
    "            this_candidate_polarities.append(analysis.sentiment.polarity)\n",
    "            this_candidate_file.write('%s,%s\\n'.encode() % (tweet.encode(), get_label(analysis.sentiment.polarity).encode()))\n",
    "    all_polarities_tb[candidate] = np.mean(normalize(this_candidate_polarities))\n",
    "    \n",
    "#Step 4 - Analyze results\n",
    "sorted_analysis = sorted(all_polarities_tb.items(), key=operator.itemgetter(1), reverse=True)\n",
    "print('Mean Sentiment Polarity in descending order :')\n",
    "for candidate, polarity in sorted_analysis:\n",
    "    print('%s : %0.3f' % (candidate, polarity))\n",
    "    \n"
   ]
  },
  {
   "cell_type": "markdown",
   "metadata": {},
   "source": [
    "## Sentiment Analysis : MS Cognitive Services API\n",
    "\n",
    "The Microsoft Cognitive Services APIs are a set of APIs for Text Analytics and can be used for sentiment analysis, key phrase extraction, topic detection, and language detection from text. In the below code, we will be invoking APIs from MS Cognitive Services to analyze the twitter sentiment between 2 candidates.\n",
    "\n",
    "Before getting started, you need to have an account configured in https://azure.microsoft.com/en-us/ and create a subscription for MS Cognitive Service API. Subscription key is needed for authenticating."
   ]
  },
  {
   "cell_type": "code",
   "execution_count": 81,
   "metadata": {
    "collapsed": false
   },
   "outputs": [
    {
     "name": "stdout",
     "output_type": "stream",
     "text": [
      "iamvkohli : 0.676\n",
      "stevesmith : 0.520\n"
     ]
    }
   ],
   "source": [
    "#Add the subscription key and connection string based on the MS cognitive Services subscription in azure\n",
    "headers = {\n",
    "    'Content-Type': 'application/json',\n",
    "    'Ocp-Apim-Subscription-Key': ''\n",
    "}\n",
    "conn = http.client.HTTPSConnection('westus.api.cognitive.microsoft.com')\n",
    "\n",
    "params = urllib.parse.urlencode({ })\n",
    "\n",
    "all_polarities_mscs = dict()\n",
    "#For each of the candidates,build the dictionary in the format{documents:text}\n",
    "for candidate in candidates_names:\n",
    "    this_candidate_polarities = []\n",
    "    tweet_dict = []\n",
    "    input_texts = {}\n",
    "    tweets = pd.read_csv(candidate+\"_tweets.csv\",header=None)\n",
    "    \n",
    "    i=1\n",
    "    for tweet in tweets[0]:\n",
    "        tweet = processTweet(tweet)\n",
    "        if(len(tweet) > 0):\n",
    "            d = { \"id\":i,\"text\":tweet,'language': 'en'}\n",
    "            tweet_dict.append(d)\n",
    "            i=i+1\n",
    "            \n",
    "\n",
    "    d={\"documents\":tweet_dict}\n",
    "    input_texts = str(d)\n",
    "    input_texts = input_texts.encode()\n",
    "    \n",
    "    #Post the tweets dictionary and headers as JSON object\n",
    "    conn.request(\"POST\", \"/text/analytics/v2.0/sentiment?%s\" % params, input_texts, headers)\n",
    "    response = conn.getresponse()\n",
    "    \n",
    "    #Response in a JSON object in the format {\"documents\":[{\"score\":0.0,\"id\":\"1\"}}\n",
    "    result = response.read()\n",
    "    \n",
    "    obj = json.loads(result.decode())\n",
    "    \n",
    "    ##For each of the input,extract the score related to its sentiment\n",
    "    for sentiment_analysis in obj['documents']:\n",
    "        this_candidate_polarities.append(sentiment_analysis['score'])\n",
    "\n",
    "    all_polarities_mscs[candidate] = np.mean(normalize(this_candidate_polarities))\n",
    "    \n",
    "    threshold = 0.5\n",
    "    tweets[\"mscs_sentiment\"] = list(map(lambda ids: get_label(ids,threshold),\n",
    "                                       this_candidate_polarities))\n",
    "    tweets.to_csv(candidate+\"_mscs_tweets.csv\", index=False)\n",
    "\n",
    "#Analyze results\n",
    "sorted_analysis = sorted(all_polarities_mscs.items(), key=operator.itemgetter(1), reverse=True)\n",
    "for candidate, polarity in sorted_analysis:\n",
    "    print('%s : %0.3f' % (candidate, polarity))\n",
    "    \n",
    "    \n",
    "conn.close()"
   ]
  },
  {
   "cell_type": "markdown",
   "metadata": {},
   "source": [
    "## Analyze the sentiment "
   ]
  },
  {
   "cell_type": "code",
   "execution_count": 83,
   "metadata": {
    "collapsed": false
   },
   "outputs": [
    {
     "data": {
      "image/png": "[encoded data removed]",
      "text/plain": [
       "<matplotlib.figure.Figure at 0x28d04344ef0>"
      ]
     },
     "metadata": {},
     "output_type": "display_data"
    }
   ],
   "source": [
    "import numpy as np\n",
    "import matplotlib.pyplot as plt\n",
    "\n",
    "fig = plt.figure()\n",
    "ax = fig.add_subplot(111)\n",
    "\n",
    "## the data\n",
    "N = 2\n",
    "## necessary variables\n",
    "ind = np.arange(N)                \n",
    "width = 0.35                      \n",
    "## the bars\n",
    "rects1 = ax.bar(ind, all_polarities_tb.values(), width,\n",
    "                color='green')\n",
    "\n",
    "rects2 = ax.bar(ind+width, all_polarities_mscs.values(), width,\n",
    "                    color='blue')\n",
    "\n",
    "# axes and labels\n",
    "ax.set_xlim(-width,len(ind)+width)\n",
    "ax.set_ylim(0,1)\n",
    "ax.set_ylabel('Mean Sentiment')\n",
    "ax.set_title('Sentiment Comparison for two candidates')\n",
    "ax.set_xticks(ind+width)\n",
    "xtickNames = ax.set_xticklabels(all_polarities_tb.keys())\n",
    "plt.setp(xtickNames, rotation=45, fontsize=10)\n",
    "## add a legend\n",
    "ax.legend( (rects1[0], rects2[0]), ('TextBlob', 'MSCS') )\n",
    "plt.show()"
   ]
  },
  {
   "cell_type": "markdown",
   "metadata": {},
   "source": [
    "## Conclusion\n",
    "In the recent cricket test match series that concluded between India and Australia there were several instances of heated battle on and off grounds and in social media. By analyzing a sample of the tweets related to both the team captains , we see a trend as shown above.\n",
    "\n",
    "Also, we find the results from TextBlob(a Python Package) and MS Cognitive Services API for sentiment analysis to be quite similar.\n",
    "\n",
    "In this notebook we have explored how to use Tweepy to read twitter data, TextBlob and MS Cognitive Services for doing Sentiment Analysis."
   ]
  }
 ],
 "metadata": {
  "anaconda-cloud": {},
  "kernelspec": {
   "display_name": "Python [default]",
   "language": "python",
   "name": "python3"
  },
  "language_info": {
   "codemirror_mode": {
    "name": "ipython",
    "version": 3
   },
   "file_extension": ".py",
   "mimetype": "text/x-python",
   "name": "python",
   "nbconvert_exporter": "python",
   "pygments_lexer": "ipython3",
   "version": "3.5.2"
  }
 },
 "nbformat": 4,
 "nbformat_minor": 1
}
