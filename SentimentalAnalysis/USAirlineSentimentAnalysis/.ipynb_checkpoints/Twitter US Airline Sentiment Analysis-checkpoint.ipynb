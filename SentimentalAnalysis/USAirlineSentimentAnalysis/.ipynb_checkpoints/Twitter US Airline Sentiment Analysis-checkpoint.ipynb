{
 "cells": [
  {
   "cell_type": "markdown",
   "metadata": {
    "deletable": true,
    "editable": true
   },
   "source": [
    "# Sentiment Analysis with RNN\n",
    "\n"
   ]
  },
  {
   "cell_type": "code",
   "execution_count": 1,
   "metadata": {
    "collapsed": false,
    "deletable": true,
    "editable": true
   },
   "outputs": [
    {
     "name": "stderr",
     "output_type": "stream",
     "text": [
      "C:\\Anaconda\\envs\\tf\\lib\\site-packages\\sklearn\\cross_validation.py:44: DeprecationWarning: This module was deprecated in version 0.18 in favor of the model_selection module into which all the refactored classes and functions are moved. Also note that the interface of the new CV iterators are different from that of this module. This module will be removed in 0.20.\n",
      "  \"This module will be removed in 0.20.\", DeprecationWarning)\n"
     ]
    }
   ],
   "source": [
    "import sklearn\n",
    "import matplotlib.pyplot as plt\n",
    "%matplotlib inline\n",
    "import pandas\n",
    "from sklearn.cross_validation import train_test_split\n",
    "import numpy\n",
    "import re\n",
    "#import nltk\n",
    "#from nltk.corpus import stopwords\n",
    "import numpy as np\n",
    "import tensorflow as tf"
   ]
  },
  {
   "cell_type": "code",
   "execution_count": 2,
   "metadata": {
    "collapsed": false,
    "deletable": true,
    "editable": true
   },
   "outputs": [],
   "source": [
    "Tweet = pandas.read_csv(\"Tweets.csv\")\n"
   ]
  },
  {
   "cell_type": "markdown",
   "metadata": {
    "deletable": true,
    "editable": true
   },
   "source": [
    "## Data preprocessing"
   ]
  },
  {
   "cell_type": "code",
   "execution_count": 3,
   "metadata": {
    "collapsed": false,
    "deletable": true,
    "editable": true
   },
   "outputs": [],
   "source": [
    "def tweet_to_words(raw_tweet):\n",
    "    letters_only = re.sub(\"[^a-zA-Z]\", \" \",raw_tweet) \n",
    "    words = letters_only.lower().split()                             \n",
    "    #stops = set(stopwords.words(\"english\"))                  \n",
    "    #meaningful_words = [w for w in words if not w in stops] \n",
    "    return( \" \".join( words )) \n",
    "\n"
   ]
  },
  {
   "cell_type": "code",
   "execution_count": 4,
   "metadata": {
    "collapsed": false,
    "deletable": true,
    "editable": true
   },
   "outputs": [],
   "source": [
    "Tweet['clean_tweet']=Tweet['text'].apply(lambda x: tweet_to_words(x))\n",
    "Tweet['sentiment'] = Tweet['airline_sentiment'].apply(lambda x: 0 if x == 'negative' else 1)\n"
   ]
  },
  {
   "cell_type": "code",
   "execution_count": 5,
   "metadata": {
    "collapsed": false,
    "deletable": true,
    "editable": true
   },
   "outputs": [],
   "source": [
    "#Join all the words in review to build a corpus\n",
    "\n",
    "all_text = ' '.join(Tweet['clean_tweet'])\n",
    "words = all_text.split()"
   ]
  },
  {
   "cell_type": "markdown",
   "metadata": {
    "deletable": true,
    "editable": true
   },
   "source": [
    "### Encoding the words\n",
    "\n",
    "The embedding lookup requires that we pass in integers to our network. The easiest way to do this is to create dictionaries that map the words in the vocabulary to integers. Then we can convert each of our reviews into integers so they can be passed into the network.\n"
   ]
  },
  {
   "cell_type": "code",
   "execution_count": 6,
   "metadata": {
    "collapsed": false,
    "deletable": true,
    "editable": true
   },
   "outputs": [],
   "source": [
    "from collections import Counter\n",
    "counts = Counter(words)\n",
    "vocab = sorted(counts, key=counts.get, reverse=True)\n",
    "vocab_to_int = {word: ii for ii, word in enumerate(vocab, 1)}\n",
    "\n",
    "#print(vocab_to_int)\n",
    "tweet_ints = []\n",
    "for each in Tweet['clean_tweet']:\n",
    "    tweet_ints.append([vocab_to_int[word] for word in each.split()])"
   ]
  },
  {
   "cell_type": "code",
   "execution_count": 7,
   "metadata": {
    "collapsed": false,
    "deletable": true,
    "editable": true
   },
   "outputs": [
    {
     "name": "stdout",
     "output_type": "stream",
     "text": [
      "[81, 114, 1, 419, 12, 2774, 4060, 1, 12, 10378, 1311, 32, 1463, 81, 38, 252, 39, 11, 36, 6818, 941, 305, 6914]\n"
     ]
    },
    {
     "data": {
      "text/plain": [
       "'@VirginAmerica trying to add my boy Prince to my ressie. SF this Thursday @VirginAmerica from LAX http://t.co/GsB2J3c4gM'"
      ]
     },
     "execution_count": 7,
     "metadata": {},
     "output_type": "execute_result"
    }
   ],
   "source": [
    "print(tweet_ints[100])\n",
    "Tweet[\"text\"][100]"
   ]
  },
  {
   "cell_type": "markdown",
   "metadata": {
    "collapsed": false,
    "deletable": true,
    "editable": true
   },
   "source": [
    "### Encoding the labels\n",
    "\n",
    "Our labels are \"positive\" or \"negative\". To use these labels in our network, we need to convert them to 0 and 1.\n",
    "\n",
    "> **Exercise:** Convert labels from `positive` and `negative` to 1 and 0, respectively."
   ]
  },
  {
   "cell_type": "code",
   "execution_count": 8,
   "metadata": {
    "collapsed": false,
    "deletable": true,
    "editable": true
   },
   "outputs": [],
   "source": [
    "labels = np.array([0 if each == 'negative' else 1 for each in Tweet['airline_sentiment'][:]]) #np.array(Tweet['sentiment'])\n"
   ]
  },
  {
   "cell_type": "code",
   "execution_count": 9,
   "metadata": {
    "collapsed": false,
    "deletable": true,
    "editable": true
   },
   "outputs": [
    {
     "name": "stdout",
     "output_type": "stream",
     "text": [
      "Zero-length reviews: 0\n",
      "Maximum review length: 34\n"
     ]
    }
   ],
   "source": [
    "tweet_len = Counter([len(x) for x in tweet_ints])\n",
    "print(\"Zero-length reviews: {}\".format(tweet_len[0]))\n",
    "print(\"Maximum review length: {}\".format(max(tweet_len)))"
   ]
  },
  {
   "cell_type": "markdown",
   "metadata": {
    "deletable": true,
    "editable": true
   },
   "source": [
    "Turns out its the final review that has zero length. But that might not always be the case, so let's make it more general."
   ]
  },
  {
   "cell_type": "code",
   "execution_count": 10,
   "metadata": {
    "collapsed": false,
    "deletable": true,
    "editable": true
   },
   "outputs": [],
   "source": [
    "seq_len = max(tweet_len)\n",
    "features = np.zeros((len(tweet_ints), seq_len), dtype=int)\n",
    "for i, row in enumerate(tweet_ints):\n",
    "    features[i, -len(row):] = np.array(row)[:seq_len]"
   ]
  },
  {
   "cell_type": "code",
   "execution_count": 11,
   "metadata": {
    "collapsed": false,
    "deletable": true,
    "editable": true
   },
   "outputs": [
    {
     "data": {
      "text/plain": [
       "array([[    0,     0,     0,     0,     0,     0,     0,     0,     0,\n",
       "            0,     0,     0,     0,     0,     0,     0,     0,     0,\n",
       "            0,     0,     0,     0,     0,     0,     0,     0,     0,\n",
       "            0,     0,     0,    81,    51,  7695,   223],\n",
       "       [    0,     0,     0,     0,     0,     0,     0,     0,     0,\n",
       "            0,     0,     0,     0,     0,     0,     0,     0,     0,\n",
       "            0,     0,     0,     0,     0,     0,    81,   541,     5,\n",
       "           91,  1137,  2494,     1,     3,   203, 12001],\n",
       "       [    0,     0,     0,     0,     0,     0,     0,     0,     0,\n",
       "            0,     0,     0,     0,     0,     0,     0,     0,     0,\n",
       "            0,     0,     0,    81,     2,   200,    11,    99,   773,\n",
       "          569,     2,    78,     1,   155,   149,   191],\n",
       "       [    0,     0,     0,     0,     0,     0,     0,     0,     0,\n",
       "            0,     0,     0,     0,     0,     0,     0,    81,    18,\n",
       "           27,   134,  4117,     1,  5673,  5176,   978,    16,    22,\n",
       "         3263,  4226,    62,    55,    25,   494,  2813],\n",
       "       [    0,     0,     0,     0,     0,     0,     0,     0,     0,\n",
       "            0,     0,     0,     0,     0,     0,     0,     0,     0,\n",
       "            0,     0,     0,     0,     0,    81,    10,    18,    27,\n",
       "            4,   134,   469,   213,   484,    84,    18],\n",
       "       [    0,     0,     0,     0,     0,     0,     0,     0,     0,\n",
       "            0,    81,   434,    77,   280,     4,     8,     7,   198,\n",
       "           23,   200,    11,    25,    32,  2129,    18,    27,   134,\n",
       "            3,   116,   213,   484,    84,   125,  1759],\n",
       "       [    0,     0,     0,     0,     0,     0,     0,     0,     0,\n",
       "            0,     0,     0,     0,     0,     0,     0,     0,     0,\n",
       "            0,    81,   172,  1451,   308,    52,     2,   104,  1399,\n",
       "           32,  5036, 11443,   225,    11,   129,   452],\n",
       "       [    0,     0,     0,     0,     0,     0,     0,     0,     0,\n",
       "            0,     0,     0,     0,     0,     0,     0,     0,    81,\n",
       "          134,   282,     4,  3161,  1714,     7,  3585,   331,  3830,\n",
       "        10409,    69,   573,    11,    36,  8107,  6754],\n",
       "       [    0,     0,     0,     0,     0,     0,     0,     0,     0,\n",
       "            0,     0,     0,     0,     0,     0,     0,     0,     0,\n",
       "            0,     0,     0,     0,     0,     0,    81,   234,     2,\n",
       "          200,    11,    35,    43,     2,    47,   196],\n",
       "       [    0,     0,     0,     0,     0,     0,     0,     0,     0,\n",
       "            0,     0,     0,     0,     0,     0,     0,     0,     0,\n",
       "            0,    81,    18,    26,   357,    10,   562,    44,    90,\n",
       "          352,     5,   108,   175,   136,     1,    21]])"
      ]
     },
     "execution_count": 11,
     "metadata": {},
     "output_type": "execute_result"
    }
   ],
   "source": [
    "features[:10,:seq_len]"
   ]
  },
  {
   "cell_type": "markdown",
   "metadata": {
    "deletable": true,
    "editable": true
   },
   "source": [
    "## Training, Validation, Test\n",
    "\n"
   ]
  },
  {
   "cell_type": "markdown",
   "metadata": {
    "deletable": true,
    "editable": true
   },
   "source": [
    "With our data in nice shape, we'll split it into training, validation, and test sets.\n",
    "\n",
    "> **Exercise:** Create the training, validation, and test sets here. You'll need to create sets for the features and the labels, `train_x` and `train_y` for example. Define a split fraction, `split_frac` as the fraction of data to keep in the training set. Usually this is set to 0.8 or 0.9. The rest of the data will be split in half to create the validation and testing data."
   ]
  },
  {
   "cell_type": "code",
   "execution_count": 12,
   "metadata": {
    "collapsed": false,
    "deletable": true,
    "editable": true
   },
   "outputs": [
    {
     "name": "stdout",
     "output_type": "stream",
     "text": [
      "\t\t\tFeature Shapes:\n",
      "Train set: \t\t(11712, 34) \n",
      "Validation set: \t(1464, 34) \n",
      "Test set: \t\t(1464, 34)\n",
      "Train set: \t\t(11712,) \n",
      "Validation set: \t(1464,) \n",
      "Test set: \t\t(1464,)\n"
     ]
    }
   ],
   "source": [
    "split_frac = 0.8\n",
    "split_idx = int(len(features)*0.8)\n",
    "train_x, val_x = features[:split_idx], features[split_idx:]\n",
    "train_y, val_y = labels[:split_idx], labels[split_idx:]\n",
    "\n",
    "test_idx = int(len(val_x)*0.5)\n",
    "val_x, test_x = val_x[:test_idx], val_x[test_idx:]\n",
    "val_y, test_y = val_y[:test_idx], val_y[test_idx:]\n",
    "\n",
    "print(\"\\t\\t\\tFeature Shapes:\")\n",
    "print(\"Train set: \\t\\t{}\".format(train_x.shape), \n",
    "      \"\\nValidation set: \\t{}\".format(val_x.shape),\n",
    "      \"\\nTest set: \\t\\t{}\".format(test_x.shape))\n",
    "\n",
    "print(\"Train set: \\t\\t{}\".format(train_y.shape), \n",
    "      \"\\nValidation set: \\t{}\".format(val_y.shape),\n",
    "      \"\\nTest set: \\t\\t{}\".format(test_y.shape))"
   ]
  },
  {
   "cell_type": "markdown",
   "metadata": {
    "deletable": true,
    "editable": true
   },
   "source": [
    "## Build the graph\n",
    "\n",
    "Here, we'll build the graph. First up, defining the hyperparameters.\n",
    "\n",
    "* `lstm_size`: Number of units in the hidden layers in the LSTM cells. Usually larger is better performance wise. Common values are 128, 256, 512, etc.\n",
    "* `lstm_layers`: Number of LSTM layers in the network. I'd start with 1, then add more if I'm underfitting.\n",
    "* `batch_size`: The number of reviews to feed the network in one training pass. Typically this should be set as high as you can go without running out of memory.\n",
    "* `learning_rate`: Learning rate"
   ]
  },
  {
   "cell_type": "code",
   "execution_count": 13,
   "metadata": {
    "collapsed": true,
    "deletable": true,
    "editable": true
   },
   "outputs": [],
   "source": [
    "lstm_size = 256\n",
    "lstm_layers = 1\n",
    "batch_size = 100\n",
    "learning_rate = 0.001"
   ]
  },
  {
   "cell_type": "markdown",
   "metadata": {
    "deletable": true,
    "editable": true
   },
   "source": [
    "For the network itself, we'll be passing in our 200 element long review vectors. Each batch will be `batch_size` vectors. We'll also be using dropout on the LSTM layer, so we'll make a placeholder for the keep probability."
   ]
  },
  {
   "cell_type": "code",
   "execution_count": 3,
   "metadata": {
    "collapsed": false,
    "deletable": true,
    "editable": true
   },
   "outputs": [
    {
     "ename": "NameError",
     "evalue": "name 'vocab_to_int' is not defined",
     "output_type": "error",
     "traceback": [
      "\u001b[0;31m---------------------------------------------------------------------------\u001b[0m",
      "\u001b[0;31mNameError\u001b[0m                                 Traceback (most recent call last)",
      "\u001b[0;32m<ipython-input-3-ea5a127f1fc9>\u001b[0m in \u001b[0;36m<module>\u001b[0;34m()\u001b[0m\n\u001b[0;32m----> 1\u001b[0;31m \u001b[0mn_words\u001b[0m \u001b[1;33m=\u001b[0m \u001b[0mlen\u001b[0m\u001b[1;33m(\u001b[0m\u001b[0mvocab_to_int\u001b[0m\u001b[1;33m)\u001b[0m\u001b[1;33m\u001b[0m\u001b[0m\n\u001b[0m\u001b[1;32m      2\u001b[0m \u001b[0mprint\u001b[0m\u001b[1;33m(\u001b[0m\u001b[0mn_words\u001b[0m\u001b[1;33m)\u001b[0m\u001b[1;33m\u001b[0m\u001b[0m\n\u001b[1;32m      3\u001b[0m \u001b[1;31m# Create the graph object\u001b[0m\u001b[1;33m\u001b[0m\u001b[1;33m\u001b[0m\u001b[0m\n\u001b[1;32m      4\u001b[0m \u001b[0mgraph\u001b[0m \u001b[1;33m=\u001b[0m \u001b[0mtf\u001b[0m\u001b[1;33m.\u001b[0m\u001b[0mGraph\u001b[0m\u001b[1;33m(\u001b[0m\u001b[1;33m)\u001b[0m\u001b[1;33m\u001b[0m\u001b[0m\n\u001b[1;32m      5\u001b[0m \u001b[1;31m# Add nodes to the graph\u001b[0m\u001b[1;33m\u001b[0m\u001b[1;33m\u001b[0m\u001b[0m\n",
      "\u001b[0;31mNameError\u001b[0m: name 'vocab_to_int' is not defined"
     ]
    }
   ],
   "source": [
    "n_words = len(vocab_to_int)\n",
    "print(n_words)\n",
    "# Create the graph object\n",
    "graph = tf.Graph()\n",
    "# Add nodes to the graph\n",
    "with graph.as_default():\n",
    "    inputs_ = tf.placeholder(tf.int32, [None, None], name='inputs')\n",
    "    labels_ = tf.placeholder(tf.int32, [None, None], name='labels')\n",
    "    keep_prob = tf.placeholder(tf.float32, name='keep_prob')"
   ]
  },
  {
   "cell_type": "markdown",
   "metadata": {
    "deletable": true,
    "editable": true
   },
   "source": [
    "### Embedding\n",
    "\n",
    "Now we'll add an embedding layer. We need to do this because there are 74000 words in our vocabulary. It is massively inefficient to one-hot encode our classes here. You should remember dealing with this problem from the word2vec lesson. Instead of one-hot encoding, we can have an embedding layer and use that layer as a lookup table. You could train an embedding layer using word2vec, then load it here. But, it's fine to just make a new layer and let the network learn the weights.\n",
    "\n",
    "\n"
   ]
  },
  {
   "cell_type": "code",
   "execution_count": 15,
   "metadata": {
    "collapsed": false,
    "deletable": true,
    "editable": true
   },
   "outputs": [],
   "source": [
    "# Size of the embedding vectors (number of units in the embedding layer)\n",
    "embed_size = 300 \n",
    "\n",
    "with graph.as_default():\n",
    "    embedding = tf.Variable(tf.random_uniform((n_words, embed_size), -1, 1))\n",
    "    embed = tf.nn.embedding_lookup(embedding, inputs_)"
   ]
  },
  {
   "cell_type": "code",
   "execution_count": 16,
   "metadata": {
    "collapsed": false,
    "deletable": true,
    "editable": true
   },
   "outputs": [],
   "source": [
    "with graph.as_default():\n",
    "    # Your basic LSTM cell\n",
    "    lstm = tf.contrib.rnn.BasicLSTMCell(lstm_size)\n",
    "    \n",
    "    # Add dropout to the cell\n",
    "    drop = tf.contrib.rnn.DropoutWrapper(lstm, output_keep_prob=keep_prob)\n",
    "    \n",
    "    # Stack up multiple LSTM layers, for deep learning\n",
    "    cell = tf.contrib.rnn.MultiRNNCell([drop] * lstm_layers)\n",
    "    \n",
    "    # Getting an initial state of all zeros\n",
    "    initial_state = cell.zero_state(batch_size, tf.float32)"
   ]
  },
  {
   "cell_type": "markdown",
   "metadata": {
    "deletable": true,
    "editable": true
   },
   "source": [
    "### RNN forward pass\n"
   ]
  },
  {
   "cell_type": "code",
   "execution_count": 17,
   "metadata": {
    "collapsed": false,
    "deletable": true,
    "editable": true
   },
   "outputs": [],
   "source": [
    "with graph.as_default():\n",
    "    outputs, final_state = tf.nn.dynamic_rnn(cell, embed,\n",
    "                                             initial_state=initial_state)"
   ]
  },
  {
   "cell_type": "markdown",
   "metadata": {
    "deletable": true,
    "editable": true
   },
   "source": [
    "### Output\n",
    "\n",
    "We only care about the final output, we'll be using that as our sentiment prediction. So we need to grab the last output with `outputs[:, -1]`, the calculate the cost from that and `labels_`."
   ]
  },
  {
   "cell_type": "code",
   "execution_count": 18,
   "metadata": {
    "collapsed": false,
    "deletable": true,
    "editable": true
   },
   "outputs": [],
   "source": [
    "with graph.as_default():\n",
    "    predictions = tf.contrib.layers.fully_connected(outputs[:, -1], 1, activation_fn=tf.sigmoid)\n",
    "    cost = tf.losses.mean_squared_error(labels_, predictions)\n",
    "    \n",
    "    optimizer = tf.train.AdamOptimizer(learning_rate).minimize(cost)"
   ]
  },
  {
   "cell_type": "markdown",
   "metadata": {
    "deletable": true,
    "editable": true
   },
   "source": [
    "### Validation accuracy\n",
    "\n",
    "Here we can add a few nodes to calculate the accuracy which we'll use in the validation pass."
   ]
  },
  {
   "cell_type": "code",
   "execution_count": 19,
   "metadata": {
    "collapsed": false,
    "deletable": true,
    "editable": true
   },
   "outputs": [],
   "source": [
    "with graph.as_default():\n",
    "    correct_pred = tf.equal(tf.cast(tf.round(predictions), tf.int32), labels_)\n",
    "    accuracy = tf.reduce_mean(tf.cast(correct_pred, tf.float32))"
   ]
  },
  {
   "cell_type": "markdown",
   "metadata": {
    "deletable": true,
    "editable": true
   },
   "source": [
    "### Batching\n",
    "\n",
    "This is a simple function for returning batches from our data. First it removes data such that we only have full batches. Then it iterates through the `x` and `y` arrays and returns slices out of those arrays with size `[batch_size]`."
   ]
  },
  {
   "cell_type": "code",
   "execution_count": 20,
   "metadata": {
    "collapsed": true,
    "deletable": true,
    "editable": true
   },
   "outputs": [],
   "source": [
    "def get_batches(x, y, batch_size=100):\n",
    "    \n",
    "    n_batches = len(x)//batch_size\n",
    "    x, y = x[:n_batches*batch_size], y[:n_batches*batch_size]\n",
    "    for ii in range(0, len(x), batch_size):\n",
    "        yield x[ii:ii+batch_size], y[ii:ii+batch_size]"
   ]
  },
  {
   "cell_type": "markdown",
   "metadata": {
    "deletable": true,
    "editable": true
   },
   "source": [
    "## Training\n",
    "\n",
    "Below is the typical training code. If you want to do this yourself, feel free to delete all this code and implement it yourself. Before you run this, make sure the `checkpoints` directory exists."
   ]
  },
  {
   "cell_type": "code",
   "execution_count": 21,
   "metadata": {
    "collapsed": false,
    "deletable": true,
    "editable": true
   },
   "outputs": [
    {
     "name": "stdout",
     "output_type": "stream",
     "text": [
      "[[    0     0     0 ...,    51  7695   223]\n",
      " [    0     0     0 ...,     3   203 12001]\n",
      " [    0     0     0 ...,   155   149   191]\n",
      " ..., \n",
      " [    0     0     0 ...,  1121  1737    13]\n",
      " [    0     0     0 ...,    32    15  1102]\n",
      " [    0     0     0 ...,     0    13    41]]\n"
     ]
    },
    {
     "data": {
      "text/plain": [
       "array([1, 1, 1, ..., 0, 0, 1])"
      ]
     },
     "execution_count": 21,
     "metadata": {},
     "output_type": "execute_result"
    }
   ],
   "source": [
    "print(train_x)\n",
    "train_y[:None]"
   ]
  },
  {
   "cell_type": "code",
   "execution_count": 26,
   "metadata": {
    "collapsed": false,
    "deletable": true,
    "editable": true
   },
   "outputs": [
    {
     "name": "stdout",
     "output_type": "stream",
     "text": [
      "Epoch: 0/10 Iteration: 5 Train loss: 0.150\n",
      "Epoch: 0/10 Iteration: 10 Train loss: 0.223\n",
      "Epoch: 0/10 Iteration: 15 Train loss: 0.144\n",
      "Epoch: 0/10 Iteration: 20 Train loss: 0.153\n",
      "Epoch: 0/10 Iteration: 25 Train loss: 0.177\n",
      "Val acc: 0.747\n",
      "Epoch: 0/10 Iteration: 30 Train loss: 0.187\n",
      "Epoch: 0/10 Iteration: 35 Train loss: 0.181\n",
      "Epoch: 0/10 Iteration: 40 Train loss: 0.178\n",
      "Epoch: 0/10 Iteration: 45 Train loss: 0.195\n",
      "Epoch: 0/10 Iteration: 50 Train loss: 0.234\n",
      "Val acc: 0.631\n",
      "Epoch: 0/10 Iteration: 55 Train loss: 0.186\n",
      "Epoch: 0/10 Iteration: 60 Train loss: 0.197\n",
      "Epoch: 0/10 Iteration: 65 Train loss: 0.212\n",
      "Epoch: 0/10 Iteration: 70 Train loss: 0.171\n",
      "Epoch: 0/10 Iteration: 75 Train loss: 0.173\n",
      "Val acc: 0.748\n",
      "Epoch: 0/10 Iteration: 80 Train loss: 0.159\n",
      "Epoch: 0/10 Iteration: 85 Train loss: 0.174\n",
      "Epoch: 0/10 Iteration: 90 Train loss: 0.157\n",
      "Epoch: 0/10 Iteration: 95 Train loss: 0.144\n",
      "Epoch: 0/10 Iteration: 100 Train loss: 0.136\n",
      "Val acc: 0.726\n",
      "Epoch: 0/10 Iteration: 105 Train loss: 0.229\n",
      "Epoch: 0/10 Iteration: 110 Train loss: 0.128\n",
      "Epoch: 0/10 Iteration: 115 Train loss: 0.122\n",
      "Epoch: 1/10 Iteration: 120 Train loss: 0.166\n",
      "Epoch: 1/10 Iteration: 125 Train loss: 0.170\n",
      "Val acc: 0.741\n",
      "Epoch: 1/10 Iteration: 130 Train loss: 0.114\n",
      "Epoch: 1/10 Iteration: 135 Train loss: 0.093\n",
      "Epoch: 1/10 Iteration: 140 Train loss: 0.146\n",
      "Epoch: 1/10 Iteration: 145 Train loss: 0.120\n",
      "Epoch: 1/10 Iteration: 150 Train loss: 0.125\n",
      "Val acc: 0.775\n",
      "Epoch: 1/10 Iteration: 155 Train loss: 0.134\n",
      "Epoch: 1/10 Iteration: 160 Train loss: 0.148\n",
      "Epoch: 1/10 Iteration: 165 Train loss: 0.111\n",
      "Epoch: 1/10 Iteration: 170 Train loss: 0.158\n",
      "Epoch: 1/10 Iteration: 175 Train loss: 0.071\n",
      "Val acc: 0.788\n",
      "Epoch: 1/10 Iteration: 180 Train loss: 0.069\n",
      "Epoch: 1/10 Iteration: 185 Train loss: 0.095\n",
      "Epoch: 1/10 Iteration: 190 Train loss: 0.112\n",
      "Epoch: 1/10 Iteration: 195 Train loss: 0.115\n",
      "Epoch: 1/10 Iteration: 200 Train loss: 0.126\n",
      "Val acc: 0.777\n",
      "Epoch: 1/10 Iteration: 205 Train loss: 0.099\n",
      "Epoch: 1/10 Iteration: 210 Train loss: 0.123\n",
      "Epoch: 1/10 Iteration: 215 Train loss: 0.075\n",
      "Epoch: 1/10 Iteration: 220 Train loss: 0.020\n",
      "Epoch: 1/10 Iteration: 225 Train loss: 0.104\n",
      "Val acc: 0.774\n",
      "Epoch: 1/10 Iteration: 230 Train loss: 0.112\n",
      "Epoch: 2/10 Iteration: 235 Train loss: 0.096\n",
      "Epoch: 2/10 Iteration: 240 Train loss: 0.136\n",
      "Epoch: 2/10 Iteration: 245 Train loss: 0.062\n",
      "Epoch: 2/10 Iteration: 250 Train loss: 0.096\n",
      "Val acc: 0.794\n",
      "Epoch: 2/10 Iteration: 255 Train loss: 0.085\n",
      "Epoch: 2/10 Iteration: 260 Train loss: 0.083\n",
      "Epoch: 2/10 Iteration: 265 Train loss: 0.075\n",
      "Epoch: 2/10 Iteration: 270 Train loss: 0.088\n",
      "Epoch: 2/10 Iteration: 275 Train loss: 0.097\n",
      "Val acc: 0.794\n",
      "Epoch: 2/10 Iteration: 280 Train loss: 0.079\n",
      "Epoch: 2/10 Iteration: 285 Train loss: 0.084\n",
      "Epoch: 2/10 Iteration: 290 Train loss: 0.120\n",
      "Epoch: 2/10 Iteration: 295 Train loss: 0.099\n",
      "Epoch: 2/10 Iteration: 300 Train loss: 0.099\n",
      "Val acc: 0.791\n",
      "Epoch: 2/10 Iteration: 305 Train loss: 0.100\n",
      "Epoch: 2/10 Iteration: 310 Train loss: 0.088\n",
      "Epoch: 2/10 Iteration: 315 Train loss: 0.091\n",
      "Epoch: 2/10 Iteration: 320 Train loss: 0.060\n",
      "Epoch: 2/10 Iteration: 325 Train loss: 0.111\n",
      "Val acc: 0.794\n",
      "Epoch: 2/10 Iteration: 330 Train loss: 0.087\n",
      "Epoch: 2/10 Iteration: 335 Train loss: 0.056\n",
      "Epoch: 2/10 Iteration: 340 Train loss: 0.046\n",
      "Epoch: 2/10 Iteration: 345 Train loss: 0.083\n",
      "Epoch: 2/10 Iteration: 350 Train loss: 0.093\n",
      "Val acc: 0.804\n",
      "Epoch: 3/10 Iteration: 355 Train loss: 0.079\n",
      "Epoch: 3/10 Iteration: 360 Train loss: 0.063\n",
      "Epoch: 3/10 Iteration: 365 Train loss: 0.074\n",
      "Epoch: 3/10 Iteration: 370 Train loss: 0.079\n",
      "Epoch: 3/10 Iteration: 375 Train loss: 0.084\n",
      "Val acc: 0.806\n",
      "Epoch: 3/10 Iteration: 380 Train loss: 0.070\n",
      "Epoch: 3/10 Iteration: 385 Train loss: 0.090\n",
      "Epoch: 3/10 Iteration: 390 Train loss: 0.065\n",
      "Epoch: 3/10 Iteration: 395 Train loss: 0.037\n",
      "Epoch: 3/10 Iteration: 400 Train loss: 0.039\n",
      "Val acc: 0.789\n",
      "Epoch: 3/10 Iteration: 405 Train loss: 0.037\n",
      "Epoch: 3/10 Iteration: 410 Train loss: 0.059\n",
      "Epoch: 3/10 Iteration: 415 Train loss: 0.072\n",
      "Epoch: 3/10 Iteration: 420 Train loss: 0.063\n",
      "Epoch: 3/10 Iteration: 425 Train loss: 0.078\n",
      "Val acc: 0.789\n",
      "Epoch: 3/10 Iteration: 430 Train loss: 0.046\n",
      "Epoch: 3/10 Iteration: 435 Train loss: 0.026\n",
      "Epoch: 3/10 Iteration: 440 Train loss: 0.032\n",
      "Epoch: 3/10 Iteration: 445 Train loss: 0.066\n",
      "Epoch: 3/10 Iteration: 450 Train loss: 0.051\n",
      "Val acc: 0.809\n",
      "Epoch: 3/10 Iteration: 455 Train loss: 0.009\n",
      "Epoch: 3/10 Iteration: 460 Train loss: 0.049\n",
      "Epoch: 3/10 Iteration: 465 Train loss: 0.050\n",
      "Epoch: 4/10 Iteration: 470 Train loss: 0.042\n",
      "Epoch: 4/10 Iteration: 475 Train loss: 0.087\n",
      "Val acc: 0.801\n",
      "Epoch: 4/10 Iteration: 480 Train loss: 0.032\n",
      "Epoch: 4/10 Iteration: 485 Train loss: 0.069\n",
      "Epoch: 4/10 Iteration: 490 Train loss: 0.082\n",
      "Epoch: 4/10 Iteration: 495 Train loss: 0.056\n",
      "Epoch: 4/10 Iteration: 500 Train loss: 0.040\n",
      "Val acc: 0.794\n",
      "Epoch: 4/10 Iteration: 505 Train loss: 0.071\n",
      "Epoch: 4/10 Iteration: 510 Train loss: 0.056\n",
      "Epoch: 4/10 Iteration: 515 Train loss: 0.061\n",
      "Epoch: 4/10 Iteration: 520 Train loss: 0.031\n",
      "Epoch: 4/10 Iteration: 525 Train loss: 0.042\n",
      "Val acc: 0.800\n",
      "Epoch: 4/10 Iteration: 530 Train loss: 0.035\n",
      "Epoch: 4/10 Iteration: 535 Train loss: 0.044\n",
      "Epoch: 4/10 Iteration: 540 Train loss: 0.067\n",
      "Epoch: 4/10 Iteration: 545 Train loss: 0.052\n",
      "Epoch: 4/10 Iteration: 550 Train loss: 0.029\n",
      "Val acc: 0.810\n",
      "Epoch: 4/10 Iteration: 555 Train loss: 0.031\n",
      "Epoch: 4/10 Iteration: 560 Train loss: 0.052\n",
      "Epoch: 4/10 Iteration: 565 Train loss: 0.037\n",
      "Epoch: 4/10 Iteration: 570 Train loss: 0.058\n",
      "Epoch: 4/10 Iteration: 575 Train loss: 0.032\n",
      "Val acc: 0.804\n",
      "Epoch: 4/10 Iteration: 580 Train loss: 0.048\n",
      "Epoch: 4/10 Iteration: 585 Train loss: 0.029\n",
      "Epoch: 5/10 Iteration: 590 Train loss: 0.036\n",
      "Epoch: 5/10 Iteration: 595 Train loss: 0.033\n",
      "Epoch: 5/10 Iteration: 600 Train loss: 0.017\n",
      "Val acc: 0.811\n",
      "Epoch: 5/10 Iteration: 605 Train loss: 0.035\n",
      "Epoch: 5/10 Iteration: 610 Train loss: 0.051\n",
      "Epoch: 5/10 Iteration: 615 Train loss: 0.035\n",
      "Epoch: 5/10 Iteration: 620 Train loss: 0.032\n",
      "Epoch: 5/10 Iteration: 625 Train loss: 0.035\n",
      "Val acc: 0.801\n",
      "Epoch: 5/10 Iteration: 630 Train loss: 0.035\n",
      "Epoch: 5/10 Iteration: 635 Train loss: 0.084\n",
      "Epoch: 5/10 Iteration: 640 Train loss: 0.027\n",
      "Epoch: 5/10 Iteration: 645 Train loss: 0.041\n",
      "Epoch: 5/10 Iteration: 650 Train loss: 0.031\n",
      "Val acc: 0.796\n",
      "Epoch: 5/10 Iteration: 655 Train loss: 0.073\n",
      "Epoch: 5/10 Iteration: 660 Train loss: 0.023\n",
      "Epoch: 5/10 Iteration: 665 Train loss: 0.038\n",
      "Epoch: 5/10 Iteration: 670 Train loss: 0.040\n",
      "Epoch: 5/10 Iteration: 675 Train loss: 0.057\n",
      "Val acc: 0.808\n",
      "Epoch: 5/10 Iteration: 680 Train loss: 0.050\n",
      "Epoch: 5/10 Iteration: 685 Train loss: 0.037\n",
      "Epoch: 5/10 Iteration: 690 Train loss: 0.050\n",
      "Epoch: 5/10 Iteration: 695 Train loss: 0.027\n",
      "Epoch: 5/10 Iteration: 700 Train loss: 0.029\n",
      "Val acc: 0.782\n",
      "Epoch: 6/10 Iteration: 705 Train loss: 0.048\n",
      "Epoch: 6/10 Iteration: 710 Train loss: 0.019\n",
      "Epoch: 6/10 Iteration: 715 Train loss: 0.016\n",
      "Epoch: 6/10 Iteration: 720 Train loss: 0.042\n",
      "Epoch: 6/10 Iteration: 725 Train loss: 0.052\n",
      "Val acc: 0.811\n",
      "Epoch: 6/10 Iteration: 730 Train loss: 0.022\n",
      "Epoch: 6/10 Iteration: 735 Train loss: 0.036\n",
      "Epoch: 6/10 Iteration: 740 Train loss: 0.034\n",
      "Epoch: 6/10 Iteration: 745 Train loss: 0.053\n",
      "Epoch: 6/10 Iteration: 750 Train loss: 0.023\n",
      "Val acc: 0.801\n",
      "Epoch: 6/10 Iteration: 755 Train loss: 0.051\n",
      "Epoch: 6/10 Iteration: 760 Train loss: 0.007\n",
      "Epoch: 6/10 Iteration: 765 Train loss: 0.021\n",
      "Epoch: 6/10 Iteration: 770 Train loss: 0.006\n",
      "Epoch: 6/10 Iteration: 775 Train loss: 0.018\n",
      "Val acc: 0.795\n",
      "Epoch: 6/10 Iteration: 780 Train loss: 0.029\n",
      "Epoch: 6/10 Iteration: 785 Train loss: 0.040\n",
      "Epoch: 6/10 Iteration: 790 Train loss: 0.013\n",
      "Epoch: 6/10 Iteration: 795 Train loss: 0.022\n",
      "Epoch: 6/10 Iteration: 800 Train loss: 0.042\n",
      "Val acc: 0.804\n",
      "Epoch: 6/10 Iteration: 805 Train loss: 0.001\n",
      "Epoch: 6/10 Iteration: 810 Train loss: 0.024\n",
      "Epoch: 6/10 Iteration: 815 Train loss: 0.043\n",
      "Epoch: 7/10 Iteration: 820 Train loss: 0.016\n",
      "Epoch: 7/10 Iteration: 825 Train loss: 0.028\n",
      "Val acc: 0.783\n",
      "Epoch: 7/10 Iteration: 830 Train loss: 0.015\n",
      "Epoch: 7/10 Iteration: 835 Train loss: 0.014\n",
      "Epoch: 7/10 Iteration: 840 Train loss: 0.051\n",
      "Epoch: 7/10 Iteration: 845 Train loss: 0.011\n",
      "Epoch: 7/10 Iteration: 850 Train loss: 0.002\n",
      "Val acc: 0.805\n",
      "Epoch: 7/10 Iteration: 855 Train loss: 0.018\n",
      "Epoch: 7/10 Iteration: 860 Train loss: 0.020\n",
      "Epoch: 7/10 Iteration: 865 Train loss: 0.027\n",
      "Epoch: 7/10 Iteration: 870 Train loss: 0.038\n",
      "Epoch: 7/10 Iteration: 875 Train loss: 0.050\n",
      "Val acc: 0.802\n",
      "Epoch: 7/10 Iteration: 880 Train loss: 0.007\n",
      "Epoch: 7/10 Iteration: 885 Train loss: 0.049\n",
      "Epoch: 7/10 Iteration: 890 Train loss: 0.010\n",
      "Epoch: 7/10 Iteration: 895 Train loss: 0.017\n",
      "Epoch: 7/10 Iteration: 900 Train loss: 0.042\n",
      "Val acc: 0.803\n",
      "Epoch: 7/10 Iteration: 905 Train loss: 0.012\n",
      "Epoch: 7/10 Iteration: 910 Train loss: 0.052\n",
      "Epoch: 7/10 Iteration: 915 Train loss: 0.025\n",
      "Epoch: 7/10 Iteration: 920 Train loss: 0.027\n",
      "Epoch: 7/10 Iteration: 925 Train loss: 0.024\n",
      "Val acc: 0.816\n",
      "Epoch: 7/10 Iteration: 930 Train loss: 0.042\n",
      "Epoch: 7/10 Iteration: 935 Train loss: 0.021\n",
      "Epoch: 8/10 Iteration: 940 Train loss: 0.016\n",
      "Epoch: 8/10 Iteration: 945 Train loss: 0.028\n",
      "Epoch: 8/10 Iteration: 950 Train loss: 0.009\n",
      "Val acc: 0.799\n",
      "Epoch: 8/10 Iteration: 955 Train loss: 0.035\n",
      "Epoch: 8/10 Iteration: 960 Train loss: 0.014\n",
      "Epoch: 8/10 Iteration: 965 Train loss: 0.022\n",
      "Epoch: 8/10 Iteration: 970 Train loss: 0.043\n",
      "Epoch: 8/10 Iteration: 975 Train loss: 0.012\n",
      "Val acc: 0.804\n",
      "Epoch: 8/10 Iteration: 980 Train loss: 0.021\n",
      "Epoch: 8/10 Iteration: 985 Train loss: 0.007\n",
      "Epoch: 8/10 Iteration: 990 Train loss: 0.015\n",
      "Epoch: 8/10 Iteration: 995 Train loss: 0.032\n",
      "Epoch: 8/10 Iteration: 1000 Train loss: 0.023\n",
      "Val acc: 0.796\n",
      "Epoch: 8/10 Iteration: 1005 Train loss: 0.026\n",
      "Epoch: 8/10 Iteration: 1010 Train loss: 0.019\n",
      "Epoch: 8/10 Iteration: 1015 Train loss: 0.018\n",
      "Epoch: 8/10 Iteration: 1020 Train loss: 0.021\n",
      "Epoch: 8/10 Iteration: 1025 Train loss: 0.005\n",
      "Val acc: 0.799\n",
      "Epoch: 8/10 Iteration: 1030 Train loss: 0.024\n",
      "Epoch: 8/10 Iteration: 1035 Train loss: 0.026\n",
      "Epoch: 8/10 Iteration: 1040 Train loss: 0.003\n",
      "Epoch: 8/10 Iteration: 1045 Train loss: 0.026\n",
      "Epoch: 8/10 Iteration: 1050 Train loss: 0.013\n",
      "Val acc: 0.810\n",
      "Epoch: 9/10 Iteration: 1055 Train loss: 0.016\n",
      "Epoch: 9/10 Iteration: 1060 Train loss: 0.030\n",
      "Epoch: 9/10 Iteration: 1065 Train loss: 0.008\n",
      "Epoch: 9/10 Iteration: 1070 Train loss: 0.040\n",
      "Epoch: 9/10 Iteration: 1075 Train loss: 0.035\n",
      "Val acc: 0.806\n",
      "Epoch: 9/10 Iteration: 1080 Train loss: 0.010\n",
      "Epoch: 9/10 Iteration: 1085 Train loss: 0.005\n",
      "Epoch: 9/10 Iteration: 1090 Train loss: 0.031\n",
      "Epoch: 9/10 Iteration: 1095 Train loss: 0.006\n",
      "Epoch: 9/10 Iteration: 1100 Train loss: 0.004\n",
      "Val acc: 0.804\n",
      "Epoch: 9/10 Iteration: 1105 Train loss: 0.006\n",
      "Epoch: 9/10 Iteration: 1110 Train loss: 0.013\n",
      "Epoch: 9/10 Iteration: 1115 Train loss: 0.008\n",
      "Epoch: 9/10 Iteration: 1120 Train loss: 0.011\n",
      "Epoch: 9/10 Iteration: 1125 Train loss: 0.005\n",
      "Val acc: 0.795\n",
      "Epoch: 9/10 Iteration: 1130 Train loss: 0.003\n",
      "Epoch: 9/10 Iteration: 1135 Train loss: 0.003\n",
      "Epoch: 9/10 Iteration: 1140 Train loss: 0.002\n",
      "Epoch: 9/10 Iteration: 1145 Train loss: 0.003\n",
      "Epoch: 9/10 Iteration: 1150 Train loss: 0.022\n",
      "Val acc: 0.787\n",
      "Epoch: 9/10 Iteration: 1155 Train loss: 0.045\n",
      "Epoch: 9/10 Iteration: 1160 Train loss: 0.021\n",
      "Epoch: 9/10 Iteration: 1165 Train loss: 0.017\n",
      "Epoch: 9/10 Iteration: 1170 Train loss: 0.018\n"
     ]
    }
   ],
   "source": [
    "epochs = 10\n",
    "\n",
    "with graph.as_default():\n",
    "    saver = tf.train.Saver()\n",
    "\n",
    "with tf.Session(graph=graph) as sess:\n",
    "    sess.run(tf.global_variables_initializer())\n",
    "    iteration = 1\n",
    "    for e in range(epochs):\n",
    "        state = sess.run(initial_state)\n",
    "        \n",
    "        for ii, (x, y) in enumerate(get_batches(train_x, train_y, batch_size), 1):\n",
    "            feed = {inputs_: x,\n",
    "                    labels_: y[:, None],\n",
    "                    keep_prob: 0.5,\n",
    "                    initial_state: state}\n",
    "            loss, state, _ = sess.run([cost, final_state, optimizer], feed_dict=feed)\n",
    "            \n",
    "            if iteration%5==0:\n",
    "                print(\"Epoch: {}/{}\".format(e, epochs),\n",
    "                      \"Iteration: {}\".format(iteration),\n",
    "                      \"Train loss: {:.3f}\".format(loss))\n",
    "\n",
    "            if iteration%25==0:\n",
    "                val_acc = []\n",
    "                val_state = sess.run(cell.zero_state(batch_size, tf.float32))\n",
    "                for x, y in get_batches(val_x, val_y, batch_size):\n",
    "                    feed = {inputs_: x,\n",
    "                            labels_: y[:, None],\n",
    "                            keep_prob: 1,\n",
    "                            initial_state: val_state}\n",
    "                    batch_acc, val_state = sess.run([accuracy, final_state], feed_dict=feed)\n",
    "                    val_acc.append(batch_acc)\n",
    "                print(\"Val acc: {:.3f}\".format(np.mean(val_acc)))\n",
    "            iteration +=1\n",
    "    saver.save(sess, \"checkpoints/twitter_sentiment.ckpt\")"
   ]
  },
  {
   "cell_type": "markdown",
   "metadata": {
    "deletable": true,
    "editable": true
   },
   "source": [
    "## Testing"
   ]
  },
  {
   "cell_type": "code",
   "execution_count": 25,
   "metadata": {
    "collapsed": false
   },
   "outputs": [
    {
     "data": {
      "text/plain": [
       "<generator object get_batches at 0x7fb01465d2b0>"
      ]
     },
     "execution_count": 25,
     "metadata": {},
     "output_type": "execute_result"
    }
   ],
   "source": [
    "get_batches(test_x, test_y, batch_size)"
   ]
  },
  {
   "cell_type": "code",
   "execution_count": 6,
   "metadata": {
    "collapsed": false
   },
   "outputs": [
    {
     "ename": "ValueError",
     "evalue": "No variables to save",
     "output_type": "error",
     "traceback": [
      "\u001b[0;31m---------------------------------------------------------------------------\u001b[0m",
      "\u001b[0;31mValueError\u001b[0m                                Traceback (most recent call last)",
      "\u001b[0;32m<ipython-input-6-7b6c9c6949d1>\u001b[0m in \u001b[0;36m<module>\u001b[0;34m()\u001b[0m\n\u001b[1;32m      1\u001b[0m \u001b[0mgraph\u001b[0m \u001b[1;33m=\u001b[0m \u001b[0mtf\u001b[0m\u001b[1;33m.\u001b[0m\u001b[0mGraph\u001b[0m\u001b[1;33m(\u001b[0m\u001b[1;33m)\u001b[0m\u001b[1;33m\u001b[0m\u001b[0m\n\u001b[1;32m      2\u001b[0m \u001b[1;32mwith\u001b[0m \u001b[0mgraph\u001b[0m\u001b[1;33m.\u001b[0m\u001b[0mas_default\u001b[0m\u001b[1;33m(\u001b[0m\u001b[1;33m)\u001b[0m\u001b[1;33m:\u001b[0m\u001b[1;33m\u001b[0m\u001b[0m\n\u001b[0;32m----> 3\u001b[0;31m     \u001b[0msaver\u001b[0m \u001b[1;33m=\u001b[0m \u001b[0mtf\u001b[0m\u001b[1;33m.\u001b[0m\u001b[0mtrain\u001b[0m\u001b[1;33m.\u001b[0m\u001b[0mSaver\u001b[0m\u001b[1;33m(\u001b[0m\u001b[1;33m)\u001b[0m\u001b[1;33m\u001b[0m\u001b[0m\n\u001b[0m",
      "\u001b[0;32mC:\\Anaconda\\envs\\tf\\lib\\site-packages\\tensorflow\\python\\training\\saver.py\u001b[0m in \u001b[0;36m__init__\u001b[0;34m(self, var_list, reshape, sharded, max_to_keep, keep_checkpoint_every_n_hours, name, restore_sequentially, saver_def, builder, defer_build, allow_empty, write_version, pad_step_number)\u001b[0m\n\u001b[1;32m   1049\u001b[0m     \u001b[0mself\u001b[0m\u001b[1;33m.\u001b[0m\u001b[0m_pad_step_number\u001b[0m \u001b[1;33m=\u001b[0m \u001b[0mpad_step_number\u001b[0m\u001b[1;33m\u001b[0m\u001b[0m\n\u001b[1;32m   1050\u001b[0m     \u001b[1;32mif\u001b[0m \u001b[1;32mnot\u001b[0m \u001b[0mdefer_build\u001b[0m\u001b[1;33m:\u001b[0m\u001b[1;33m\u001b[0m\u001b[0m\n\u001b[0;32m-> 1051\u001b[0;31m       \u001b[0mself\u001b[0m\u001b[1;33m.\u001b[0m\u001b[0mbuild\u001b[0m\u001b[1;33m(\u001b[0m\u001b[1;33m)\u001b[0m\u001b[1;33m\u001b[0m\u001b[0m\n\u001b[0m\u001b[1;32m   1052\u001b[0m     \u001b[1;32mif\u001b[0m \u001b[0mself\u001b[0m\u001b[1;33m.\u001b[0m\u001b[0msaver_def\u001b[0m\u001b[1;33m:\u001b[0m\u001b[1;33m\u001b[0m\u001b[0m\n\u001b[1;32m   1053\u001b[0m       \u001b[0mself\u001b[0m\u001b[1;33m.\u001b[0m\u001b[0m_check_saver_def\u001b[0m\u001b[1;33m(\u001b[0m\u001b[1;33m)\u001b[0m\u001b[1;33m\u001b[0m\u001b[0m\n",
      "\u001b[0;32mC:\\Anaconda\\envs\\tf\\lib\\site-packages\\tensorflow\\python\\training\\saver.py\u001b[0m in \u001b[0;36mbuild\u001b[0;34m(self)\u001b[0m\n\u001b[1;32m   1070\u001b[0m           \u001b[1;32mreturn\u001b[0m\u001b[1;33m\u001b[0m\u001b[0m\n\u001b[1;32m   1071\u001b[0m         \u001b[1;32melse\u001b[0m\u001b[1;33m:\u001b[0m\u001b[1;33m\u001b[0m\u001b[0m\n\u001b[0;32m-> 1072\u001b[0;31m           \u001b[1;32mraise\u001b[0m \u001b[0mValueError\u001b[0m\u001b[1;33m(\u001b[0m\u001b[1;34m\"No variables to save\"\u001b[0m\u001b[1;33m)\u001b[0m\u001b[1;33m\u001b[0m\u001b[0m\n\u001b[0m\u001b[1;32m   1073\u001b[0m       \u001b[0mself\u001b[0m\u001b[1;33m.\u001b[0m\u001b[0m_is_empty\u001b[0m \u001b[1;33m=\u001b[0m \u001b[1;32mFalse\u001b[0m\u001b[1;33m\u001b[0m\u001b[0m\n\u001b[1;32m   1074\u001b[0m       self.saver_def = self._builder.build(\n",
      "\u001b[0;31mValueError\u001b[0m: No variables to save"
     ]
    }
   ],
   "source": [
    "graph = tf.Graph()\n",
    "with graph.as_default():\n",
    "    saver = tf.train.Saver()"
   ]
  },
  {
   "cell_type": "code",
   "execution_count": 5,
   "metadata": {
    "collapsed": false,
    "deletable": true,
    "editable": true
   },
   "outputs": [
    {
     "ename": "NameError",
     "evalue": "name 'saver' is not defined",
     "output_type": "error",
     "traceback": [
      "\u001b[0;31m---------------------------------------------------------------------------\u001b[0m",
      "\u001b[0;31mNameError\u001b[0m                                 Traceback (most recent call last)",
      "\u001b[0;32m<ipython-input-5-4c44e457245c>\u001b[0m in \u001b[0;36m<module>\u001b[0;34m()\u001b[0m\n\u001b[1;32m      3\u001b[0m \u001b[0mtest_pred\u001b[0m \u001b[1;33m=\u001b[0m \u001b[1;33m[\u001b[0m\u001b[1;33m]\u001b[0m\u001b[1;33m\u001b[0m\u001b[0m\n\u001b[1;32m      4\u001b[0m \u001b[1;32mwith\u001b[0m \u001b[0mtf\u001b[0m\u001b[1;33m.\u001b[0m\u001b[0mSession\u001b[0m\u001b[1;33m(\u001b[0m\u001b[0mgraph\u001b[0m\u001b[1;33m=\u001b[0m\u001b[0mgraph\u001b[0m\u001b[1;33m)\u001b[0m \u001b[1;32mas\u001b[0m \u001b[0msess\u001b[0m\u001b[1;33m:\u001b[0m\u001b[1;33m\u001b[0m\u001b[0m\n\u001b[0;32m----> 5\u001b[0;31m   \u001b[0msaver\u001b[0m\u001b[1;33m.\u001b[0m\u001b[0mrestore\u001b[0m\u001b[1;33m(\u001b[0m\u001b[0msess\u001b[0m\u001b[1;33m,\u001b[0m \u001b[0mtf\u001b[0m\u001b[1;33m.\u001b[0m\u001b[0mtrain\u001b[0m\u001b[1;33m.\u001b[0m\u001b[0mlatest_checkpoint\u001b[0m\u001b[1;33m(\u001b[0m\u001b[1;34m'checkpoints'\u001b[0m\u001b[1;33m)\u001b[0m\u001b[1;33m)\u001b[0m\u001b[1;33m\u001b[0m\u001b[0m\n\u001b[0m\u001b[1;32m      6\u001b[0m   \u001b[0mtest_state\u001b[0m \u001b[1;33m=\u001b[0m \u001b[0msess\u001b[0m\u001b[1;33m.\u001b[0m\u001b[0mrun\u001b[0m\u001b[1;33m(\u001b[0m\u001b[0mcell\u001b[0m\u001b[1;33m.\u001b[0m\u001b[0mzero_state\u001b[0m\u001b[1;33m(\u001b[0m\u001b[0mbatch_size\u001b[0m\u001b[1;33m,\u001b[0m \u001b[0mtf\u001b[0m\u001b[1;33m.\u001b[0m\u001b[0mfloat32\u001b[0m\u001b[1;33m)\u001b[0m\u001b[1;33m)\u001b[0m\u001b[1;33m\u001b[0m\u001b[0m\n\u001b[1;32m      7\u001b[0m   \u001b[1;32mfor\u001b[0m \u001b[0mii\u001b[0m\u001b[1;33m,\u001b[0m \u001b[1;33m(\u001b[0m\u001b[0mx\u001b[0m\u001b[1;33m,\u001b[0m \u001b[0my\u001b[0m\u001b[1;33m)\u001b[0m \u001b[1;32min\u001b[0m \u001b[0menumerate\u001b[0m\u001b[1;33m(\u001b[0m\u001b[0mget_batches\u001b[0m\u001b[1;33m(\u001b[0m\u001b[0mtest_x\u001b[0m\u001b[1;33m,\u001b[0m \u001b[0mtest_y\u001b[0m\u001b[1;33m,\u001b[0m \u001b[0mbatch_size\u001b[0m\u001b[1;33m)\u001b[0m\u001b[1;33m,\u001b[0m \u001b[1;36m1\u001b[0m\u001b[1;33m)\u001b[0m\u001b[1;33m:\u001b[0m\u001b[1;33m\u001b[0m\u001b[0m\n",
      "\u001b[0;31mNameError\u001b[0m: name 'saver' is not defined"
     ]
    }
   ],
   "source": [
    "  \n",
    "test_acc = []\n",
    "test_pred = []\n",
    "with tf.Session(graph=graph) as sess:\n",
    "    saver.restore(sess, tf.train.latest_checkpoint('checkpoints'))\n",
    "    test_state = sess.run(cell.zero_state(batch_size, tf.float32))\n",
    "    for ii, (x, y) in enumerate(get_batches(test_x, test_y, batch_size), 1):\n",
    "        feed = {inputs_: x,\n",
    "                labels_: y[:, None],\n",
    "                keep_prob: 1,\n",
    "                initial_state: test_state}\n",
    "        batch_acc, test_state= sess.run([accuracy, final_state], feed_dict=feed)\n",
    "        test_acc.append(batch_acc)\n",
    "        prediction = tf.cast(tf.round(predictions),tf.int32)\n",
    "        prediction = sess.run(prediction,feed_dict=feed)\n",
    "        test_pred.append(prediction)\n",
    "        \n",
    "        \n",
    "        \n",
    "    print(\"Test accuracy: {:.3f}\".format(np.mean(test_acc)))\n",
    "    "
   ]
  }
 ],
 "metadata": {
  "anaconda-cloud": {},
  "kernelspec": {
   "display_name": "Python 3",
   "language": "python",
   "name": "python3"
  },
  "language_info": {
   "codemirror_mode": {
    "name": "ipython",
    "version": 3
   },
   "file_extension": ".py",
   "mimetype": "text/x-python",
   "name": "python",
   "nbconvert_exporter": "python",
   "pygments_lexer": "ipython3",
   "version": "3.5.2"
  }
 },
 "nbformat": 4,
 "nbformat_minor": 2
}
